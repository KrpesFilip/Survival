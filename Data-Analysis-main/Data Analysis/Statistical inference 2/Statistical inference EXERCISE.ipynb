{
  "cells": [
    {
      "cell_type": "markdown",
      "metadata": {
        "id": "c--jGcJo9W4V"
      },
      "source": []
    },
    {
      "cell_type": "markdown",
      "metadata": {
        "id": "e45NGwX_9e-D"
      },
      "source": [
        "Cilj vježbe je odraditi zadane zadatke kako bi naučili koristiti određene metode statističke analize podataka i kako bi se upoznali sa statističkim zaključianjem.\n",
        "\n",
        "\n",
        "\n"
      ]
    },
    {
      "cell_type": "markdown",
      "metadata": {
        "id": "FJOiLdm9_rQb"
      },
      "source": [
        "1. ZADATAK:"
      ]
    },
    {
      "cell_type": "code",
      "execution_count": null,
      "metadata": {
        "colab": {
          "base_uri": "https://localhost:8080/"
        },
        "id": "F9KNYoG79R6K",
        "outputId": "01337277-ceed-404a-d785-ce179803954c"
      },
      "outputs": [
        {
          "name": "stdout",
          "output_type": "stream",
          "text": [
            "78.71035558431097 2.08593386840301e-34\n"
          ]
        }
      ],
      "source": [
        "import numpy as np\n",
        "import scipy.stats as stats\n",
        "import matplotlib.pyplot as plt\n",
        "import pandas as pd\n",
        "import array as arr\n",
        "from math import sqrt\n",
        "\n",
        "papir1_masa = [3.481, 3.477, 3.47, 3.448, 3.472, 3.47, 3.485, 3.464, 3.477, 3.475, 3.472, 3.473, 3.472, 3.47, 3.474]\n",
        "papir2_masa = [3.258, 3.254, 3.256, 3.249, 3.241, 3.254, 3.247, 3.257, 3.239, 3.25, 3.258, 3.239, 3.245, 3.24, 3.254]\n",
        "\n",
        "t_stat, p_value = stats.ttest_ind(papir1_masa, papir2_masa)\n",
        "print(t_stat, p_value)\n"
      ]
    },
    {
      "cell_type": "markdown",
      "metadata": {
        "id": "1L0JnA6PJy5l"
      },
      "source": [
        "Uzororci su nezavisni i normalno distribuirani skupovi podataka koji sadrže informacije i masi papira vaganih više puta(15). T-testom za razinu značajnosti od 5% dolazimo do zaključka da možemo odbaciti nultu hipotezu, tj. možemo reći da mase papira nisu jednake. T-testom za razinu značajnosti od 1% dolazimo do zaključka da možemo odbaciti nultu hipotezu, tj. možemo reći da mase papira nisu jednake.\n",
        "\n",
        "Rezlutati donose isti zaključak jer je p vrijednost manja u oba slučaja."
      ]
    },
    {
      "cell_type": "code",
      "execution_count": null,
      "metadata": {
        "colab": {
          "base_uri": "https://localhost:8080/"
        },
        "id": "cEPMYx0oBANN",
        "outputId": "5b84991b-aa6c-487e-9445-5f29407db2b5"
      },
      "outputs": [
        {
          "name": "stdout",
          "output_type": "stream",
          "text": [
            "t value 2.048407141795244\n",
            "t value 2.763262455461066\n",
            "Means:\n",
            "3.2493999999999996\n",
            "3.472\n",
            "Standard deviations:\n",
            "0.008024961059095524\n",
            "0.006897342483401358\n",
            "Lenghts:\n",
            "15\n",
            "15\n",
            "Sandard error: 0.000364292651315489\n",
            "0.0007462196686581768 0.0010066362061804668\n",
            "0.22260000000000035\n",
            "5% interval pouzdanosti (0.22185378033134218, 0.22334621966865853)\n",
            "1% interval pouzdanosti (0.2215933637938199, 0.22360663620618082)\n"
          ]
        }
      ],
      "source": [
        "raz1 = 0.95\n",
        "raz2 = 0.99\n",
        "\n",
        "alfa1 = 1 - raz1\n",
        "alfa2 = 1 - raz2\n",
        "\n",
        "crit_value1 = 2.131\n",
        "crit_value2 = 2.947\n",
        "\n",
        "dof = len(papir1_masa) + len(papir2_masa) - 2\n",
        "t_value1=stats.t.ppf(1-alfa1/2, dof)\n",
        "print(\"t value\", t_value1)\n",
        "\n",
        "dof = len(papir1_masa) + len(papir2_masa) - 2\n",
        "t_value2=stats.t.ppf(1-alfa2/2, dof)\n",
        "print(\"t value\", t_value2)\n",
        "\n",
        "\n",
        "\n",
        "length1 = len(papir1_masa)\n",
        "length2 = len(papir2_masa)\n",
        "srvr1 = np.mean(papir1_masa)\n",
        "srvr2 = np.mean(papir2_masa)\n",
        "stddv1 = np.std(papir1_masa)\n",
        "stddv2 = np.std(papir2_masa)\n",
        "print(\"Means:\")\n",
        "print(srvr2)\n",
        "print(srvr1)\n",
        "print(\"Standard deviations:\")\n",
        "print(stddv1)\n",
        "print(stddv2)\n",
        "print(\"Lenghts:\")\n",
        "print(length1)\n",
        "print(length2)\n",
        "\n",
        "Sp = sqrt(1/length1 + 1/length2) * sqrt(stddv1**2/length1 + stddv2**2/length2)\n",
        "\n",
        "StdError=Sp*sqrt(1/length1 + 1/length2)\n",
        "print(\"Sandard error:\", StdError)\n",
        "\n",
        "conf_int1 = (srvr1 - srvr2) - t_value1*StdError, (srvr1 - srvr2) + t_value1*StdError\n",
        "conf_int2 = (srvr1 - srvr2) - t_value2*StdError, (srvr1 - srvr2) + t_value2*StdError\n",
        "\n",
        "a=(srvr1 - srvr2) + t_value1*StdError - (srvr1 - srvr2)\n",
        "b=(srvr1 - srvr2) + t_value2*StdError - (srvr1 - srvr2)\n",
        "print(a, b)\n",
        "print(srvr1 - srvr2)\n",
        "\n",
        "\n",
        "\n",
        "print(\"5% interval pouzdanosti\", conf_int1)\n",
        "print(\"1% interval pouzdanosti\", conf_int2)\n",
        "\n"
      ]
    },
    {
      "cell_type": "markdown",
      "metadata": {
        "id": "j0dILPOGYS-U"
      },
      "source": [
        "95% smo sigurno da je razlika u masi papira1 i papira2 u intervalu (0.22185378033134218, 0.22334621966865853). Interval ne sadrži null vrijednost i odbacujemo nultu hipotezu, tj. mase nisu jednake.\n",
        "\n",
        "99% smo sigurno da je razlika u masi papira1 i papira2 u intervalu (0.2215933637938199, 0.22360663620618082) Interval ne sadrži null vrijednost i odbacujemo nultu hipotezu, tj. mase nisu jednake."
      ]
    },
    {
      "cell_type": "markdown",
      "metadata": {
        "id": "Si1HHQ_2dE57"
      },
      "source": [
        "Metode korištene za izračun potrevnih parametara su djelomično ugrašene metode iz python biblioteka(numpy, spicy, math), a dio je računat \"ručno\" pomoču formula."
      ]
    },
    {
      "cell_type": "markdown",
      "metadata": {
        "id": "bqI39Ty5L0Wc"
      },
      "source": [
        "ZADATAK 2:"
      ]
    },
    {
      "cell_type": "code",
      "execution_count": 3,
      "metadata": {
        "colab": {
          "base_uri": "https://localhost:8080/"
        },
        "id": "U8G1MsDUL0GN",
        "outputId": "3dbe648a-a95e-42c0-c29e-b4d7a1a9b41e"
      },
      "outputs": [
        {
          "data": {
            "text/plain": [
              "(count    60.000000\n",
              " mean     37.400000\n",
              " std      10.512624\n",
              " min      11.000000\n",
              " 25%      31.000000\n",
              " 50%      36.000000\n",
              " 75%      46.000000\n",
              " max      56.000000\n",
              " Range    45.000000\n",
              " Name: Pre, dtype: float64,\n",
              " count    60.000000\n",
              " mean     43.850000\n",
              " std      12.802046\n",
              " min      11.000000\n",
              " 25%      35.750000\n",
              " 50%      43.500000\n",
              " 75%      53.000000\n",
              " max      67.000000\n",
              " Range    56.000000\n",
              " Name: Post, dtype: float64)"
            ]
          },
          "execution_count": 3,
          "metadata": {},
          "output_type": "execute_result"
        }
      ],
      "source": [
        "import pandas as pd\n",
        "\n",
        "# Reload the dataset as the session has been reset\n",
        "file_path_dataset = '/content/ispitanici.xlsx'\n",
        "data = pd.read_excel(file_path_dataset)\n",
        "\n",
        "# Display the first few rows of the dataset to understand its structure\n",
        "data.head()\n",
        "\n",
        "# Descriptive statistics for \"Pre\" and \"Post\"\n",
        "pre_stats = data['Pre'].describe()\n",
        "post_stats = data['Post'].describe()\n",
        "\n",
        "# Compute range for \"Pre\" and \"Post\"\n",
        "pre_range = data['Pre'].max() - data['Pre'].min()\n",
        "post_range = data['Post'].max() - data['Post'].min()\n",
        "\n",
        "# Add range information to descriptive statistics\n",
        "pre_stats['Range'] = pre_range\n",
        "post_stats['Range'] = post_range\n",
        "\n",
        "pre_stats, post_stats"
      ]
    },
    {
      "cell_type": "markdown",
      "metadata": {
        "id": "cXahuFOYTUQQ"
      },
      "source": [
        "Rezultati prije intervencije (Pre):\n",
        "Prosjek: 37.40, Medijan: 36, Raspon: 45\n",
        "Rezultati poslije intervencije (Post):\n",
        "Prosjek: 43.85, Medijan: 43.5, Raspon: 56"
      ]
    },
    {
      "cell_type": "code",
      "execution_count": 4,
      "metadata": {
        "colab": {
          "base_uri": "https://localhost:8080/"
        },
        "id": "7iIQW7QOS9ic",
        "outputId": "5a84f202-df40-4860-fa88-1619edc11cc5"
      },
      "outputs": [
        {
          "data": {
            "text/plain": [
              "{'Pre': {'statistic': 0.9679852884200666, 'p-value': 0.11620561928825013},\n",
              " 'Post': {'statistic': 0.9842729324869284, 'p-value': 0.6323036477521675}}"
            ]
          },
          "execution_count": 4,
          "metadata": {},
          "output_type": "execute_result"
        }
      ],
      "source": [
        "from scipy.stats import shapiro\n",
        "\n",
        "# Test for normality using Shapiro-Wilk test\n",
        "shapiro_pre = shapiro(data['Pre'])\n",
        "shapiro_post = shapiro(data['Post'])\n",
        "\n",
        "# Results of the Shapiro-Wilk test\n",
        "shapiro_results = {\n",
        "    \"Pre\": {\"statistic\": shapiro_pre.statistic, \"p-value\": shapiro_pre.pvalue},\n",
        "    \"Post\": {\"statistic\": shapiro_post.statistic, \"p-value\": shapiro_post.pvalue}\n",
        "}\n",
        "\n",
        "shapiro_results"
      ]
    },
    {
      "cell_type": "markdown",
      "metadata": {
        "id": "oEWGIzv7TVFK"
      },
      "source": [
        "Shapiro-Wilk test pokazao je da su podaci za oba seta (Pre i Post) normalno distribuirani (p-vrijednosti > 0.05)."
      ]
    },
    {
      "cell_type": "code",
      "execution_count": 5,
      "metadata": {
        "colab": {
          "base_uri": "https://localhost:8080/"
        },
        "id": "BCmHhVCkS_p4",
        "outputId": "1a48144f-5b35-4315-e956-9413215f0e48"
      },
      "outputs": [
        {
          "data": {
            "text/plain": [
              "{'t-statistic': -7.091086459674953, 'p-value': 1.8967651553056133e-09}"
            ]
          },
          "execution_count": 5,
          "metadata": {},
          "output_type": "execute_result"
        }
      ],
      "source": [
        "from scipy.stats import ttest_rel\n",
        "\n",
        "# Paired t-test for Pre and Post\n",
        "t_stat, p_value = ttest_rel(data['Pre'], data['Post'])\n",
        "\n",
        "# Results of the t-test\n",
        "t_test_results = {\"t-statistic\": t_stat, \"p-value\": p_value}\n",
        "t_test_results\n"
      ]
    },
    {
      "cell_type": "markdown",
      "metadata": {
        "id": "JNQis5JuTYBV"
      },
      "source": [
        "Proveden je t-test za ovisne uzorke:\n",
        "t-statistika: -7.09\n",
        "p-vrijednost:\n",
        "1.90×10−9\n",
        "1.90×10−9\n",
        "\n",
        "Rezultati ukazuju na statistički značajnu razliku između rezultata prije i poslije intervencije (p < 0.05)."
      ]
    },
    {
      "cell_type": "code",
      "execution_count": 6,
      "metadata": {
        "colab": {
          "base_uri": "https://localhost:8080/",
          "height": 545
        },
        "id": "NDSWyTOGTB9i",
        "outputId": "a12cadec-5c60-4a16-cc0e-700e13017079"
      },
      "outputs": [
        {
          "data": {
            "image/png": "[encoded data removed]",
            "text/plain": [
              "<Figure size 800x600 with 1 Axes>"
            ]
          },
          "metadata": {},
          "output_type": "display_data"
        }
      ],
      "source": [
        "import matplotlib.pyplot as plt\n",
        "\n",
        "# Create a boxplot to visualize the difference between Pre and Post results\n",
        "plt.figure(figsize=(8, 6))\n",
        "plt.boxplot([data['Pre'], data['Post']], labels=['Pre', 'Post'])\n",
        "plt.title(\"Rezultati prije i poslije intervencije\")\n",
        "plt.ylabel(\"Rezultati\")\n",
        "plt.grid(axis='y')\n",
        "plt.show()\n"
      ]
    },
    {
      "cell_type": "markdown",
      "metadata": {
        "id": "8Xx365cvTQaE"
      },
      "source": [
        "Postoji statistički značajna razlika između rezultata prije i poslije intervencije, što sugerira da je program imao pozitivan učinak na rezultate ispitanika."
      ]
    }
  ],
  "metadata": {
    "colab": {
      "provenance": []
    },
    "kernelspec": {
      "display_name": "Python 3",
      "name": "python3"
    },
    "language_info": {
      "name": "python"
    }
  },
  "nbformat": 4,
  "nbformat_minor": 0
}
